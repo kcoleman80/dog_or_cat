{
  "cells": [
    {
      "metadata": {
        "trusted": true
      },
      "cell_type": "code",
      "source": "pwd",
      "execution_count": 7,
      "outputs": [
        {
          "output_type": "execute_result",
          "execution_count": 7,
          "data": {
            "text/plain": "'/home/nbuser/library'"
          },
          "metadata": {}
        }
      ]
    },
    {
      "metadata": {
        "trusted": true
      },
      "cell_type": "code",
      "source": "!pip install keras",
      "execution_count": 8,
      "outputs": [
        {
          "output_type": "stream",
          "text": "Requirement already satisfied: keras in /home/nbuser/anaconda3_501/lib/python3.6/site-packages (2.3.1)\nRequirement already satisfied: h5py in /home/nbuser/anaconda3_501/lib/python3.6/site-packages (from keras) (2.8.0)\nRequirement already satisfied: pyyaml in /home/nbuser/anaconda3_501/lib/python3.6/site-packages (from keras) (3.13)\nRequirement already satisfied: keras-applications>=1.0.6 in /home/nbuser/anaconda3_501/lib/python3.6/site-packages (from keras) (1.0.8)\nRequirement already satisfied: keras-preprocessing>=1.0.5 in /home/nbuser/anaconda3_501/lib/python3.6/site-packages (from keras) (1.1.0)\nRequirement already satisfied: numpy>=1.9.1 in /home/nbuser/anaconda3_501/lib/python3.6/site-packages (from keras) (1.16.2)\nRequirement already satisfied: scipy>=0.14 in /home/nbuser/anaconda3_501/lib/python3.6/site-packages (from keras) (1.1.0)\nRequirement already satisfied: six>=1.9.0 in /home/nbuser/anaconda3_501/lib/python3.6/site-packages (from keras) (1.11.0)\n",
          "name": "stdout"
        }
      ]
    },
    {
      "metadata": {
        "trusted": true
      },
      "cell_type": "code",
      "source": "import keras\nfrom keras.models import load_model\nfrom keras.preprocessing import image\nimport numpy as np\nfrom os import listdir\nfrom os.path import isfile, join",
      "execution_count": 1,
      "outputs": [
        {
          "output_type": "stream",
          "text": "Using TensorFlow backend.\n",
          "name": "stderr"
        }
      ]
    },
    {
      "metadata": {
        "trusted": true
      },
      "cell_type": "code",
      "source": "# dimensions of our images\nimg_width, img_height = 150, 150",
      "execution_count": 2,
      "outputs": []
    },
    {
      "metadata": {
        "trusted": true
      },
      "cell_type": "code",
      "source": "# load the model saved\nmodel = load_model('model.h5')\nmodel.compile(loss='binary_crossentropy',\n              optimizer='rmsprop',\n              metrics=['accuracy'])\n\nmypath = \"/home/nbuser/library/data/predict/\"\nonlyfiles = [f for f in listdir(mypath) if isfile(join(mypath, f))]\nprint(onlyfiles)\n# predicting images\ndog_counter = 0 \ncat_counter  = 0\nfor file in onlyfiles:\n    img = image.load_img(mypath+file, target_size=(img_width, img_height))\n    x = image.img_to_array(img)\n    x = np.expand_dims(x, axis=0)\n    \n    images = np.vstack([x])\n    classes = model.predict_classes(images, batch_size=10)\n    classes = classes[0][0]\n    \n    if classes == 0:\n        print(file + \": \" + 'cat')\n        cat_counter += 1\n    else:\n        print(file + \": \" + 'not cat')\n        dog_counter += 1\n        \nprint(\"Not Cats :\",dog_counter)\nprint(\"Total Cats :\",cat_counter)",
      "execution_count": 4,
      "outputs": [
        {
          "output_type": "stream",
          "text": "['IMG_3077.jpeg', 'IMG_3074.png', 'IMG_3066.png', 'IMG_2940.jpeg', 'IMG_3073.png', 'IMG_3072.png', 'IMG_2941.png', 'IMG_3076.jpeg', 'IMG_2945.jpeg', 'IMG_2938.jpeg', 'IMG_2939.jpeg', 'IMG_3078.jpeg']\nIMG_3077.jpeg: cat\nIMG_3074.png: cat\nIMG_3066.png: cat\nIMG_2940.jpeg: cat\nIMG_3073.png: cat\nIMG_3072.png: cat\nIMG_2941.png: cat\nIMG_3076.jpeg: cat\nIMG_2945.jpeg: not cat\nIMG_2938.jpeg: cat\nIMG_2939.jpeg: cat\nIMG_3078.jpeg: cat\nNot Cats : 1\nTotal Cats : 11\n",
          "name": "stdout"
        }
      ]
    },
    {
      "metadata": {
        "trusted": true
      },
      "cell_type": "code",
      "source": "",
      "execution_count": null,
      "outputs": []
    }
  ],
  "metadata": {
    "kernelspec": {
      "name": "python36",
      "display_name": "Python 3.6",
      "language": "python"
    },
    "language_info": {
      "mimetype": "text/x-python",
      "nbconvert_exporter": "python",
      "name": "python",
      "pygments_lexer": "ipython3",
      "version": "3.6.6",
      "file_extension": ".py",
      "codemirror_mode": {
        "version": 3,
        "name": "ipython"
      }
    }
  },
  "nbformat": 4,
  "nbformat_minor": 2
}