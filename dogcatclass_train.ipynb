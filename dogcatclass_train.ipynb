{
  "cells": [
    {
      "metadata": {
        "trusted": true
      },
      "cell_type": "code",
      "source": "pwd",
      "execution_count": 1,
      "outputs": [
        {
          "output_type": "execute_result",
          "execution_count": 1,
          "data": {
            "text/plain": "'/home/nbuser/library'"
          },
          "metadata": {}
        }
      ]
    },
    {
      "metadata": {
        "trusted": true
      },
      "cell_type": "code",
      "source": "!pip install --upgrade pip",
      "execution_count": null,
      "outputs": [
        {
          "output_type": "stream",
          "text": "\u001b[33mWARNING: Retrying (Retry(total=4, connect=None, read=None, redirect=None, status=None)) after connection broken by 'ConnectTimeoutError(<pip._vendor.urllib3.connection.VerifiedHTTPSConnection object at 0x7f029ea95128>, 'Connection to webproxy timed out. (connect timeout=15)')': /simple/pip/\u001b[0m\n\u001b[33mWARNING: Retrying (Retry(total=3, connect=None, read=None, redirect=None, status=None)) after connection broken by 'ConnectTimeoutError(<pip._vendor.urllib3.connection.VerifiedHTTPSConnection object at 0x7f029ea8fba8>, 'Connection to webproxy timed out. (connect timeout=15)')': /simple/pip/\u001b[0m\n\u001b[33mWARNING: Retrying (Retry(total=2, connect=None, read=None, redirect=None, status=None)) after connection broken by 'ConnectTimeoutError(<pip._vendor.urllib3.connection.VerifiedHTTPSConnection object at 0x7f029ea8f5c0>, 'Connection to webproxy timed out. (connect timeout=15)')': /simple/pip/\u001b[0m\n\u001b[33mWARNING: Retrying (Retry(total=1, connect=None, read=None, redirect=None, status=None)) after connection broken by 'ConnectTimeoutError(<pip._vendor.urllib3.connection.VerifiedHTTPSConnection object at 0x7f029ea8f128>, 'Connection to webproxy timed out. (connect timeout=15)')': /simple/pip/\u001b[0m\n",
          "name": "stdout"
        }
      ]
    },
    {
      "metadata": {
        "trusted": true
      },
      "cell_type": "code",
      "source": "!pip install tensorflow",
      "execution_count": null,
      "outputs": []
    },
    {
      "metadata": {
        "trusted": true
      },
      "cell_type": "code",
      "source": "!pip install keras",
      "execution_count": null,
      "outputs": []
    },
    {
      "metadata": {
        "trusted": true
      },
      "cell_type": "code",
      "source": "#!/usr/bin/env python3\nimport keras\nfrom keras.preprocessing.image import ImageDataGenerator\nfrom keras.models import Sequential\nfrom keras.layers import Conv2D, MaxPooling2D\nfrom keras.layers import Activation, Dropout, Flatten, Dense\nfrom keras import backend as K",
      "execution_count": 3,
      "outputs": [
        {
          "output_type": "stream",
          "text": "Using TensorFlow backend.\n",
          "name": "stderr"
        }
      ]
    },
    {
      "metadata": {
        "trusted": true
      },
      "cell_type": "code",
      "source": "# dimensions of our images.\nimg_width, img_height = 150, 150",
      "execution_count": 4,
      "outputs": []
    },
    {
      "metadata": {
        "trusted": true
      },
      "cell_type": "code",
      "source": "train_data_dir = '/home/nbuser/library/data/train'#image_classifier/data/train\nvalidation_data_dir = '/home/nbuser/library/data/validation' #image_classifier/data/validation\n#only 31 pics of each dog and cat\nnb_train_samples = 31\nnb_validation_samples = 12\nepochs = 50 ###check\nbatch_size = 16 ##check",
      "execution_count": 5,
      "outputs": []
    },
    {
      "metadata": {
        "trusted": true
      },
      "cell_type": "code",
      "source": "if K.image_data_format() == 'channels_first':\n    input_shape = (3, img_width, img_height)\nelse:\n    input_shape = (img_width, img_height, 3)\n\nmodel = Sequential()\nmodel.add(Conv2D(32, (3, 3), input_shape=input_shape))\nmodel.add(Activation('relu'))\nmodel.add(MaxPooling2D(pool_size=(2, 2)))\n\nmodel.add(Conv2D(32, (3, 3)))\nmodel.add(Activation('relu'))\nmodel.add(MaxPooling2D(pool_size=(2, 2)))\n\nmodel.add(Conv2D(64, (3, 3)))\nmodel.add(Activation('relu'))\nmodel.add(MaxPooling2D(pool_size=(2, 2)))\n\nmodel.add(Flatten())\nmodel.add(Dense(64))\nmodel.add(Activation('relu'))\nmodel.add(Dropout(0.5))\nmodel.add(Dense(1))\nmodel.add(Activation('sigmoid'))\n\nmodel.compile(loss='binary_crossentropy', # or categorical_crossentropy\n              optimizer='rmsprop',# or adagrad\n              metrics=['accuracy'])\n\n",
      "execution_count": 6,
      "outputs": [
        {
          "output_type": "stream",
          "text": "WARNING:tensorflow:From /home/nbuser/anaconda3_501/lib/python3.6/site-packages/tensorflow/python/ops/nn_impl.py:182: add_dispatch_support.<locals>.wrapper (from tensorflow.python.ops.array_ops) is deprecated and will be removed in a future version.\nInstructions for updating:\nUse tf.where in 2.0, which has the same broadcast rule as np.where\n",
          "name": "stdout"
        }
      ]
    },
    {
      "metadata": {
        "trusted": true
      },
      "cell_type": "code",
      "source": "# this is the augmentation configuration we will use for training\ntrain_datagen = ImageDataGenerator(\n    rescale=1. / 255,\n    shear_range=0.2,\n    zoom_range=0.2,\n    horizontal_flip=True)",
      "execution_count": 7,
      "outputs": []
    },
    {
      "metadata": {
        "trusted": true
      },
      "cell_type": "code",
      "source": "# this is the augmentation configuration we will use for testing:\n# only rescaling\ntest_datagen = ImageDataGenerator(rescale=1. / 255)\n\ntrain_generator = train_datagen.flow_from_directory(\n    train_data_dir,\n    target_size=(img_width, img_height),\n    batch_size=batch_size,\n    class_mode='binary')\n\nprint(train_generator.class_indices)",
      "execution_count": 8,
      "outputs": [
        {
          "output_type": "stream",
          "text": "Found 62 images belonging to 2 classes.\n{'cats': 0, 'dogs': 1}\n",
          "name": "stdout"
        }
      ]
    },
    {
      "metadata": {
        "trusted": true
      },
      "cell_type": "code",
      "source": "validation_generator = test_datagen.flow_from_directory(\n    validation_data_dir,\n    target_size=(img_width, img_height),\n    batch_size=batch_size,\n    class_mode='binary')\n\nmodel.fit_generator(\n    train_generator,\n    steps_per_epoch=nb_train_samples // batch_size,\n    epochs=epochs,\n    validation_data=validation_generator,\n    validation_steps=nb_validation_samples // batch_size)\n\nmodel.save('model.h5')",
      "execution_count": 9,
      "outputs": [
        {
          "output_type": "stream",
          "text": "Found 24 images belonging to 2 classes.\nEpoch 1/50\n1/1 [==============================] - 25s 25s/step - loss: 0.7211 - accuracy: 0.1875 - val_loss: 0.7827 - val_accuracy: 0.5000\nEpoch 2/50\n1/1 [==============================] - 14s 14s/step - loss: 0.8978 - accuracy: 0.4375 - val_loss: 0.6611 - val_accuracy: 0.4167\nEpoch 3/50\n1/1 [==============================] - 12s 12s/step - loss: 0.7142 - accuracy: 0.5714 - val_loss: 0.6665 - val_accuracy: 0.5000\nEpoch 4/50\n1/1 [==============================] - 16s 16s/step - loss: 0.7565 - accuracy: 0.3750 - val_loss: 0.7622 - val_accuracy: 0.5000\nEpoch 5/50\n1/1 [==============================] - 8s 8s/step - loss: 0.6989 - accuracy: 0.5000 - val_loss: 0.7128 - val_accuracy: 0.4583\nEpoch 6/50\n1/1 [==============================] - 13s 13s/step - loss: 0.7307 - accuracy: 0.3750 - val_loss: 0.6784 - val_accuracy: 0.5000\nEpoch 7/50\n1/1 [==============================] - 10s 10s/step - loss: 0.6851 - accuracy: 0.5625 - val_loss: 0.7216 - val_accuracy: 0.5000\nEpoch 8/50\n1/1 [==============================] - 16s 16s/step - loss: 0.7290 - accuracy: 0.3750 - val_loss: 0.7010 - val_accuracy: 0.5000\nEpoch 9/50\n1/1 [==============================] - 10s 10s/step - loss: 0.6974 - accuracy: 0.3750 - val_loss: 0.7182 - val_accuracy: 0.5000\nEpoch 10/50\n1/1 [==============================] - 10s 10s/step - loss: 0.7044 - accuracy: 0.2857 - val_loss: 0.6981 - val_accuracy: 0.5000\nEpoch 11/50\n1/1 [==============================] - 11s 11s/step - loss: 0.6877 - accuracy: 0.5000 - val_loss: 0.6900 - val_accuracy: 0.4583\nEpoch 12/50\n1/1 [==============================] - 14s 14s/step - loss: 0.6916 - accuracy: 0.4375 - val_loss: 0.6827 - val_accuracy: 0.5000\nEpoch 13/50\n1/1 [==============================] - 10s 10s/step - loss: 0.6799 - accuracy: 0.7500 - val_loss: 0.6612 - val_accuracy: 0.5000\nEpoch 14/50\n1/1 [==============================] - 9s 9s/step - loss: 0.6431 - accuracy: 0.5714 - val_loss: 0.7526 - val_accuracy: 0.4167\nEpoch 15/50\n1/1 [==============================] - 9s 9s/step - loss: 0.6634 - accuracy: 0.5000 - val_loss: 0.9278 - val_accuracy: 0.5000\nEpoch 16/50\n1/1 [==============================] - 15s 15s/step - loss: 0.9809 - accuracy: 0.5000 - val_loss: 0.7041 - val_accuracy: 0.4583\nEpoch 17/50\n1/1 [==============================] - 10s 10s/step - loss: 0.6632 - accuracy: 0.7500 - val_loss: 0.6753 - val_accuracy: 0.5000\nEpoch 18/50\n1/1 [==============================] - 12s 12s/step - loss: 0.7598 - accuracy: 0.3750 - val_loss: 0.7546 - val_accuracy: 0.5000\nEpoch 19/50\n1/1 [==============================] - 13s 13s/step - loss: 0.7838 - accuracy: 0.3750 - val_loss: 0.6928 - val_accuracy: 0.4583\nEpoch 20/50\n1/1 [==============================] - 9s 9s/step - loss: 0.6647 - accuracy: 0.9286 - val_loss: 0.6877 - val_accuracy: 0.4583\nEpoch 21/50\n1/1 [==============================] - 9s 9s/step - loss: 0.6862 - accuracy: 0.6250 - val_loss: 0.6912 - val_accuracy: 0.4583\nEpoch 22/50\n1/1 [==============================] - 10s 10s/step - loss: 0.6684 - accuracy: 0.6875 - val_loss: 0.6799 - val_accuracy: 0.4167\nEpoch 23/50\n1/1 [==============================] - 15s 15s/step - loss: 0.6769 - accuracy: 0.5625 - val_loss: 0.6627 - val_accuracy: 0.5417\nEpoch 24/50\n1/1 [==============================] - 10s 10s/step - loss: 0.6688 - accuracy: 0.6429 - val_loss: 0.6926 - val_accuracy: 0.5417\nEpoch 25/50\n1/1 [==============================] - 8s 8s/step - loss: 0.6435 - accuracy: 0.7500 - val_loss: 0.6980 - val_accuracy: 0.4167\nEpoch 26/50\n1/1 [==============================] - 10s 10s/step - loss: 0.6782 - accuracy: 0.5000 - val_loss: 0.7069 - val_accuracy: 0.5000\nEpoch 27/50\n1/1 [==============================] - 10s 10s/step - loss: 0.7422 - accuracy: 0.5000 - val_loss: 0.7304 - val_accuracy: 0.5000\nEpoch 28/50\n1/1 [==============================] - 13s 13s/step - loss: 0.7998 - accuracy: 0.2143 - val_loss: 0.6944 - val_accuracy: 0.3750\nEpoch 29/50\n1/1 [==============================] - 10s 10s/step - loss: 0.6633 - accuracy: 0.6875 - val_loss: 0.7294 - val_accuracy: 0.3333\nEpoch 30/50\n1/1 [==============================] - 11s 11s/step - loss: 0.6390 - accuracy: 0.6875 - val_loss: 0.7620 - val_accuracy: 0.5000\nEpoch 31/50\n1/1 [==============================] - 11s 11s/step - loss: 0.7382 - accuracy: 0.5000 - val_loss: 0.7192 - val_accuracy: 0.5000\nEpoch 32/50\n1/1 [==============================] - 8s 8s/step - loss: 0.6638 - accuracy: 0.6429 - val_loss: 0.6611 - val_accuracy: 0.5000\nEpoch 33/50\n1/1 [==============================] - 11s 11s/step - loss: 0.6542 - accuracy: 0.6875 - val_loss: 0.6306 - val_accuracy: 0.5000\nEpoch 34/50\n1/1 [==============================] - 13s 13s/step - loss: 0.6871 - accuracy: 0.3750 - val_loss: 0.7420 - val_accuracy: 0.3333\nEpoch 35/50\n1/1 [==============================] - 8s 8s/step - loss: 0.5898 - accuracy: 0.8125 - val_loss: 0.6975 - val_accuracy: 0.4583\nEpoch 36/50\n1/1 [==============================] - 11s 11s/step - loss: 0.7340 - accuracy: 0.6429 - val_loss: 0.6608 - val_accuracy: 0.5000\nEpoch 37/50\n1/1 [==============================] - 9s 9s/step - loss: 0.6316 - accuracy: 0.6875 - val_loss: 0.7303 - val_accuracy: 0.4583\nEpoch 38/50\n1/1 [==============================] - 13s 13s/step - loss: 0.6002 - accuracy: 0.7500 - val_loss: 0.6389 - val_accuracy: 0.4583\nEpoch 39/50\n1/1 [==============================] - 12s 12s/step - loss: 0.6402 - accuracy: 0.7500 - val_loss: 0.6460 - val_accuracy: 0.5417\nEpoch 40/50\n1/1 [==============================] - 11s 11s/step - loss: 0.5851 - accuracy: 0.7143 - val_loss: 0.7549 - val_accuracy: 0.5000\nEpoch 41/50\n1/1 [==============================] - 9s 9s/step - loss: 0.8009 - accuracy: 0.5000 - val_loss: 0.7489 - val_accuracy: 0.5417\nEpoch 42/50\n1/1 [==============================] - 9s 9s/step - loss: 0.6584 - accuracy: 0.6250 - val_loss: 0.7197 - val_accuracy: 0.4167\nEpoch 43/50\n1/1 [==============================] - 11s 11s/step - loss: 0.5592 - accuracy: 0.9375 - val_loss: 0.7474 - val_accuracy: 0.4167\nEpoch 44/50\n1/1 [==============================] - 13s 13s/step - loss: 0.5462 - accuracy: 0.7500 - val_loss: 0.7590 - val_accuracy: 0.4167\nEpoch 45/50\n1/1 [==============================] - 10s 10s/step - loss: 0.4536 - accuracy: 0.9375 - val_loss: 0.7934 - val_accuracy: 0.3750\nEpoch 46/50\n1/1 [==============================] - 9s 9s/step - loss: 0.7936 - accuracy: 0.5000 - val_loss: 1.0888 - val_accuracy: 0.5000\nEpoch 47/50\n1/1 [==============================] - 11s 11s/step - loss: 1.0295 - accuracy: 0.4286 - val_loss: 0.5663 - val_accuracy: 0.5417\nEpoch 48/50\n1/1 [==============================] - 14s 14s/step - loss: 0.5002 - accuracy: 0.8750 - val_loss: 0.7642 - val_accuracy: 0.5000\nEpoch 49/50\n1/1 [==============================] - 11s 11s/step - loss: 0.6186 - accuracy: 0.5625 - val_loss: 0.7679 - val_accuracy: 0.4167\nEpoch 50/50\n1/1 [==============================] - 10s 10s/step - loss: 0.5021 - accuracy: 0.7500 - val_loss: 0.8599 - val_accuracy: 0.4583\n",
          "name": "stdout"
        }
      ]
    },
    {
      "metadata": {
        "trusted": true
      },
      "cell_type": "code",
      "source": "",
      "execution_count": null,
      "outputs": []
    }
  ],
  "metadata": {
    "kernelspec": {
      "name": "python36",
      "display_name": "Python 3.6",
      "language": "python"
    },
    "language_info": {
      "mimetype": "text/x-python",
      "nbconvert_exporter": "python",
      "name": "python",
      "pygments_lexer": "ipython3",
      "version": "3.6.6",
      "file_extension": ".py",
      "codemirror_mode": {
        "version": 3,
        "name": "ipython"
      }
    }
  },
  "nbformat": 4,
  "nbformat_minor": 2
}